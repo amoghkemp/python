{
 "cells": [
  {
   "cell_type": "code",
   "execution_count": 1,
   "metadata": {},
   "outputs": [
    {
     "name": "stdout",
     "output_type": "stream",
     "text": [
      "pygame 1.9.6\n",
      "Hello from the pygame community. https://www.pygame.org/contribute.html\n"
     ]
    }
   ],
   "source": [
    "import pygame\n",
    "import time\n",
    "\n",
    "pygame.init()\n",
    "\n",
    "white = (255,255,255)\n",
    "purple = (255,0,255)\n",
    "color = purple\n",
    "x=0\n",
    "y=580\n",
    "dir_x=0\n",
    "dir_y=580\n",
    "t=0\n",
    "v=60\n",
    "start=False\n",
    "stop=True\n",
    "count=0\n",
    "\n",
    "\n",
    "clock = pygame.time.Clock()\n",
    "\n",
    "block_size = 10\n",
    "FPS = 30\n",
    "\n",
    "gameDisplay = pygame.display.set_mode((800,600))\n",
    "pygame.display.set_caption('Slither')\n",
    "\n",
    "gameExit = False\n",
    "\n",
    "while not gameExit:\n",
    "    for event in pygame.event.get():\n",
    "        if event.type == pygame.QUIT:\n",
    "            gameExit = True\n",
    "        if event.type == pygame.KEYDOWN:\n",
    "            start=True\n",
    "            count+=1\n",
    "        if count==2:\n",
    "            gameExit=True\n",
    "    gameDisplay.fill(white)\n",
    "    pygame.draw.rect(gameDisplay, color, [x,y,20,20])\n",
    "    if start==True:\n",
    "        dir_x=v*t\n",
    "        dir_y=560-(v*t-(5*(t**2)))\n",
    "    pygame.display.update()\n",
    "    x=dir_x\n",
    "    y=dir_y\n",
    "    t+=0.05\n",
    "    if x>=800:\n",
    "        gameExit=True\n",
    "    \n",
    "    \n",
    "    clock.tick(FPS)\n",
    "\n",
    "pygame.quit()\n",
    "quit()"
   ]
  },
  {
   "cell_type": "code",
   "execution_count": null,
   "metadata": {},
   "outputs": [],
   "source": []
  }
 ],
 "metadata": {
  "kernelspec": {
   "display_name": "Python 3",
   "language": "python",
   "name": "python3"
  },
  "language_info": {
   "codemirror_mode": {
    "name": "ipython",
    "version": 3
   },
   "file_extension": ".py",
   "mimetype": "text/x-python",
   "name": "python",
   "nbconvert_exporter": "python",
   "pygments_lexer": "ipython3",
   "version": "3.7.4"
  }
 },
 "nbformat": 4,
 "nbformat_minor": 2
}
